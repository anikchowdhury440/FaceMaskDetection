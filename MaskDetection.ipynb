{
 "cells": [
  {
   "cell_type": "code",
   "execution_count": 1,
   "metadata": {},
   "outputs": [],
   "source": [
    "from tensorflow.keras.preprocessing.image import ImageDataGenerator \n",
    "#Generate batches of tensor image data with real-time data augmentation.\n",
    "from tensorflow.keras.applications import MobileNetV2\n",
    "#MobileNetV2 is a general architecture and can be used for multiple use cases. Depending on the use case, it can use different input layer size and different width factors. This allows different width models to reduce the number of multiply-adds and thereby reduce inference cost on mobile devices.\n",
    "from tensorflow.keras.layers import AveragePooling2D\n",
    "from tensorflow.keras.layers import Dropout\n",
    "#Applies Dropout to the input.\n",
    "from tensorflow.keras.layers import Flatten\n",
    "#Flattens the input. Does not affect the batch size.\n",
    "from tensorflow.keras.layers import Dense\n",
    "#Just your regular densely-connected NN layer.\n",
    "from tensorflow.keras.layers import Input\n",
    "#Input() is used to instantiate a Keras tensor.\n",
    "from tensorflow.keras.models import Model\n",
    "#Model groups layers into an object with training and inference features.\n",
    "from tensorflow.keras.optimizers import Adam\n",
    "#Optimizer that implements the Adam algorithm.\n",
    "from tensorflow.keras.applications.mobilenet_v2 import preprocess_input\n",
    "#Preprocesses a tensor or Numpy array encoding a batch of images.\n",
    "from tensorflow.keras.preprocessing.image import img_to_array\n",
    "#Converts a PIL Image instance to a Numpy array.\n",
    "from tensorflow.keras.preprocessing.image import load_img\n",
    "#Loads an image into PIL format.\n",
    "from tensorflow.keras.utils import to_categorical\n",
    "#Converts a class vector (integers) to binary class matrix.\n",
    "from sklearn.preprocessing import LabelBinarizer\n",
    "from sklearn.model_selection import train_test_split\n",
    "from sklearn.metrics import classification_report\n",
    "from imutils import paths\n",
    "import matplotlib.pyplot as plt\n",
    "import numpy as np\n",
    "import os\n",
    "#The OS module in python provides functions for interacting with the operating system"
   ]
  },
  {
   "cell_type": "code",
   "execution_count": 2,
   "metadata": {},
   "outputs": [],
   "source": [
    "# initialize the initial learning rate, number of epochs to train for,\n",
    "# and batch size\n",
    "INIT_LR = 1e-4\n",
    "#the learning rate is a tuning parameter in an optimization algorithm that determines the step size at each iteration while moving toward a minimum of a loss function.\n",
    "EPOCHS = 20\n",
    "#An epoch is a term used in machine learning and indicates the number of passes of the entire training dataset the machine learning algorithm has completed.\n",
    "BS = 32\n",
    "#Batch size is a term used in machine learning and refers to the number of training examples utilized in one iteration."
   ]
  },
  {
   "cell_type": "code",
   "execution_count": 3,
   "metadata": {},
   "outputs": [],
   "source": [
    "DIRECTORY = r\"C:\\Users\\Anik Chowdhury\\Desktop\\Tensorflow Keras Project\\Mask detection\\dataset\"\n",
    "CATEGORIES = [\"with_mask\", \"without_mask\"]"
   ]
  },
  {
   "cell_type": "code",
   "execution_count": 4,
   "metadata": {},
   "outputs": [
    {
     "name": "stderr",
     "output_type": "stream",
     "text": [
      "C:\\Users\\Anik Chowdhury\\Anaconda3\\lib\\site-packages\\PIL\\Image.py:968: UserWarning: Palette images with Transparency   expressed in bytes should be converted to RGBA images\n",
      "  ' expressed in bytes should be converted ' +\n"
     ]
    }
   ],
   "source": [
    "# grab the list of images in our dataset directory, then initialize\n",
    "# the list of data (i.e., images) and class images\n",
    "\n",
    "data = []\n",
    "labels = []\n",
    "\n",
    "for category in CATEGORIES:\n",
    "    path = os.path.join(DIRECTORY, category)\n",
    "    #os.path.join() method in Python join one or more path components intelligently. This method concatenates various path components with exactly one directory separator (‘/’) following each non-empty part except the last path component. If the last path component to be joined is empty then a directory seperator (‘/’) is put at the end.\n",
    "    for img in os.listdir(path):\n",
    "        img_path = os.path.join(path, img)\n",
    "        image = load_img(img_path,target_size=(224, 224))\n",
    "        #tf.keras.preprocessing.image.load_img(path,grayscale,color_mode,target_size,interpolation)\n",
    "        #path->\tPath to image file.\n",
    "        #grayscale->DEPRECATED use color_mode=\"grayscale\"\n",
    "        #color_mode->One of \"grayscale\", \"rgb\", \"rgba\". Default: \"rgb\". The desired image format.\n",
    "        #target_size->Either None (default to original size) or tuple of ints (img_height, img_width).\n",
    "        #interpolation->Interpolation method used to resample the image if the target size is different from that of the loaded image. Supported methods are \"nearest\", \"bilinear\", and \"bicubic\"\n",
    "        image = img_to_array(image)\n",
    "        #tf.keras.preprocessing.image.img_to_array(img,data_format,dtype)\n",
    "        #img->\tInput PIL Image instance.\n",
    "        #data_format->mage data format, can be either \"channels_first\" or \"channels_last\". Defaults to None, in which case the global setting tf.keras.backend.image_data_format() is used\n",
    "        #dtype->Dtype to use. Default to None, in which case the global setting tf.keras.backend.floatx() is used\n",
    "        image = preprocess_input(image)\n",
    "        #tf.keras.applications.resnet.preprocess_input(x, data_format)\n",
    "        #x->A floating point numpy.array or a tf.Tensor, 3D or 4D with 3 color channels, with values in the range [0, 255].\n",
    "        #data_format->Optional data format of the image tensor/array. Defaults to None, in which case the global setting tf.keras.backend.image_data_format() is used\n",
    "        data.append(image)\n",
    "        labels.append(category)"
   ]
  },
  {
   "cell_type": "code",
   "execution_count": 5,
   "metadata": {},
   "outputs": [],
   "source": [
    "# perform one-hot encoding on the labels\n",
    "lb = LabelBinarizer()\n",
    "labels = lb.fit_transform(labels)\n",
    "labels = to_categorical(labels)"
   ]
  },
  {
   "cell_type": "code",
   "execution_count": 6,
   "metadata": {},
   "outputs": [],
   "source": [
    "#perform list into numpy array\n",
    "data = np.array(data, dtype=\"float32\")\n",
    "labels = np.array(labels)"
   ]
  },
  {
   "cell_type": "code",
   "execution_count": 7,
   "metadata": {},
   "outputs": [],
   "source": [
    "(trainX, testX, trainY, testY) = train_test_split(data, labels, test_size=0.20, stratify=labels, random_state=42)\n",
    "#stratify->his stratify parameter makes a split so that the proportion of values in the sample produced will be the same as the proportion of values provided to parameter stratify."
   ]
  },
  {
   "cell_type": "code",
   "execution_count": 8,
   "metadata": {},
   "outputs": [],
   "source": [
    "# construct the training image generator for data augmentation\n",
    "# Data augmentation is a technique to artificially create new training data from existing training data. This means, variations of the training set images that are likely to be seen by the model.\n",
    "aug = ImageDataGenerator(\n",
    "\trotation_range=20,\n",
    "\tzoom_range=0.15,\n",
    "\twidth_shift_range=0.2,\n",
    "\theight_shift_range=0.2,\n",
    "\tshear_range=0.15,\n",
    "\thorizontal_flip=True,\n",
    "\tfill_mode=\"nearest\")"
   ]
  },
  {
   "cell_type": "code",
   "execution_count": 9,
   "metadata": {},
   "outputs": [],
   "source": [
    "# load the MobileNetV2 network, ensuring the head FC layer sets are left off\n",
    "baseModel = MobileNetV2(weights=\"imagenet\", include_top=False, input_tensor=Input(shape=(224, 224, 3)),input_shape=(224,224,3))\n",
    "\n",
    "#tf.keras.applications.MobileNetV2(input_shape,alpha,include_top,weights,input_tensor,pooling,classes,classifier_activation,**kwargs)\n",
    "#input_shape->Optional shape tuple, to be specified if you would like to use a model with an input image resolution\n",
    "#alpha->Float between 0 and 1. controls the width of the network. This is known as the width multiplier in the MobileNetV2 paperIf alpha < 1.0, proportionally decreases the number of filters in each layer. If alpha > 1.0, proportionally increases the number of filters in each layer. If alpha = 1, default number of filters from the paper are used at each layer.\n",
    "#include_top->Boolean, whether to include the fully-connected layer at the top of the network. Defaults to True.\n",
    "#weights->String, one of None (random initialization), 'imagenet' (pre-training on ImageNet), or the path to the weights file to be loaded.\n",
    "#input_tensor->Optional Keras tensor (i.e. output of layers.Input()) to use as image input for the model.\n",
    "#pooling->String, optional pooling mode for feature extraction when include_top is False.\n",
    "#classes->\tInteger, optional number of classes to classify images into, only to be specified if include_top is True, and if no weights argument is specified.\n",
    "#classifier_activation->A str or callable. The activation function to use on the \"top\" layer. Ignored unless include_top=True. Set classifier_activation=None to return the logits of the \"top\" layer.\n",
    "#**kwargs->For backwards compatibility only.\n"
   ]
  },
  {
   "cell_type": "code",
   "execution_count": 10,
   "metadata": {},
   "outputs": [],
   "source": [
    "# construct the head of the model that will be placed on top of the\n",
    "# the base model\n",
    "headModel = baseModel.output\n",
    "headModel = AveragePooling2D(pool_size=(7, 7))(headModel)\n",
    "#tf.keras.layers.AveragePooling2D(pool_size, strides, padding, data_format, **kwargs)\n",
    "#pool_size->integer or tuple of 2 integers, factors by which to downscale (vertical, horizontal). (2, 2) will halve the input in both spatial dimension.\n",
    "#strides-> Integer, tuple of 2 integers, or None. Strides values. If None, it will default to pool_size.\n",
    "#padding-> One of \"valid\" or \"same\" (case-insensitive).\n",
    "#data_format-> A string, one of channels_last (default) or channels_first. The ordering of the dimensions in the inputs. channels_last corresponds to inputs with shape (batch, height, width, channels) while channels_first corresponds to inputs with shape (batch, channels, height, width). It defaults to the image_data_format value found in your Keras config file at ~/.keras/keras.json. If you never set it, then it will be \"channels_last\".\n",
    "headModel = Flatten(name=\"flatten\")(headModel)\n",
    "headModel = Dense(128, activation=\"relu\")(headModel)\n",
    "#tf.keras.layers.Dense(units, activation, use_bias, kernel_initializer,bias_initializer, kernel_regularizer, bias_regularizer,activity_regularizer, kernel_constraint, bias_constraint,**kwargs)\n",
    "#units->Positive integer, dimensionality of the output space.\n",
    "#activation->Activation function to use. If you don't specify anything, no activation is applied (ie. \"linear\" activation: a(x) = x).\n",
    "#use_bias->Boolean, whether the layer uses a bias vector.\n",
    "#kernel_initializer->Initializer for the kernel weights matrix.\n",
    "#bias_initializer->Initializer for the bias vector.\n",
    "#kernel_regularizer->Regularizer function applied to the kernel weights matrix.\n",
    "#bias_regularizer->Regularizer function applied to the bias vector.\n",
    "#activity_regularizer->Regularizer function applied to the output of the layer (its \"activation\").\n",
    "#kernel_constraint->Constraint function applied to the kernel weights matrix.\n",
    "#bias_constraint->Constraint function applied to the bias vector.\n",
    "headModel = Dropout(0.5)(headModel)\n",
    "#tf.keras.layers.Dropout(rate,noise_shape,seed,**kwargs)\n",
    "#rate->Float between 0 and 1. Fraction of the input units to drop.\n",
    "#noise_shape->1D integer tensor representing the shape of the binary dropout mask that will be multiplied with the input. For instance, if your inputs have shape (batch_size, timesteps, features) and you want the dropout mask to be the same for all timesteps, you can use noise_shape=(batch_size, 1, features).\n",
    "#seed->A Python integer to use as random seed.\n",
    "headModel = Dense(2, activation=\"softmax\")(headModel)\n"
   ]
  },
  {
   "cell_type": "code",
   "execution_count": 11,
   "metadata": {},
   "outputs": [],
   "source": [
    "# place the head FC model on top of the base model (this will become the actual model we will train)\n",
    "model = Model(inputs=baseModel.input, outputs=headModel)\n",
    "#tf.keras.Model(input,output,name)"
   ]
  },
  {
   "cell_type": "code",
   "execution_count": 12,
   "metadata": {},
   "outputs": [],
   "source": [
    "# loop over all layers in the base model and freeze them so they will *not* be updated during the first training process\n",
    "for layer in baseModel.layers:\n",
    "\tlayer.trainable = False"
   ]
  },
  {
   "cell_type": "code",
   "execution_count": 13,
   "metadata": {},
   "outputs": [],
   "source": [
    "# compile our model\n",
    "opt = Adam(lr=INIT_LR, decay=INIT_LR / EPOCHS)\n",
    "model.compile(loss=\"binary_crossentropy\", optimizer=opt,metrics=[\"accuracy\"])\n",
    "#compile(optimizer, loss, metrics, loss_weights,weighted_metrics, run_eagerly, **kwargs)"
   ]
  },
  {
   "cell_type": "code",
   "execution_count": 14,
   "metadata": {
    "scrolled": true
   },
   "outputs": [
    {
     "name": "stdout",
     "output_type": "stream",
     "text": [
      "WARNING:tensorflow:sample_weight modes were coerced from\n",
      "  ...\n",
      "    to  \n",
      "  ['...']\n",
      "Train for 95 steps, validate on 767 samples\n",
      "Epoch 1/20\n",
      "95/95 [==============================] - 789s 8s/step - loss: 0.5176 - accuracy: 0.7525 - val_loss: 0.4492 - val_accuracy: 0.8030\n",
      "Epoch 2/20\n",
      "95/95 [==============================] - 611s 6s/step - loss: 0.2914 - accuracy: 0.8837 - val_loss: 0.5371 - val_accuracy: 0.7948\n",
      "Epoch 3/20\n",
      "95/95 [==============================] - 1682s 18s/step - loss: 0.2246 - accuracy: 0.9140 - val_loss: 0.4724 - val_accuracy: 0.8247\n",
      "Epoch 4/20\n",
      "95/95 [==============================] - 1295s 14s/step - loss: 0.1982 - accuracy: 0.9249 - val_loss: 0.3775 - val_accuracy: 0.8560\n",
      "Epoch 5/20\n",
      "95/95 [==============================] - 611s 6s/step - loss: 0.1595 - accuracy: 0.9413 - val_loss: 0.4060 - val_accuracy: 0.8519\n",
      "Epoch 6/20\n",
      "95/95 [==============================] - 613s 6s/step - loss: 0.1553 - accuracy: 0.9450 - val_loss: 0.2811 - val_accuracy: 0.8886\n",
      "Epoch 7/20\n",
      "95/95 [==============================] - 614s 6s/step - loss: 0.1363 - accuracy: 0.9496 - val_loss: 0.3830 - val_accuracy: 0.8655\n",
      "Epoch 8/20\n",
      "95/95 [==============================] - 2355s 25s/step - loss: 0.1268 - accuracy: 0.9496 - val_loss: 0.3756 - val_accuracy: 0.8723\n",
      "Epoch 9/20\n",
      "95/95 [==============================] - 611s 6s/step - loss: 0.1142 - accuracy: 0.9581 - val_loss: 0.4161 - val_accuracy: 0.8628\n",
      "Epoch 10/20\n",
      "95/95 [==============================] - 620s 7s/step - loss: 0.1173 - accuracy: 0.9588 - val_loss: 0.3825 - val_accuracy: 0.8723\n",
      "Epoch 11/20\n",
      "95/95 [==============================] - 611s 6s/step - loss: 0.1226 - accuracy: 0.9562 - val_loss: 0.2847 - val_accuracy: 0.8954\n",
      "Epoch 12/20\n",
      "95/95 [==============================] - 613s 6s/step - loss: 0.1199 - accuracy: 0.9575 - val_loss: 0.2381 - val_accuracy: 0.9062\n",
      "Epoch 13/20\n",
      "95/95 [==============================] - 612s 6s/step - loss: 0.1075 - accuracy: 0.9615 - val_loss: 0.3873 - val_accuracy: 0.8709\n",
      "Epoch 14/20\n",
      "95/95 [==============================] - 2893s 30s/step - loss: 0.0953 - accuracy: 0.9670 - val_loss: 0.3737 - val_accuracy: 0.8791\n",
      "Epoch 15/20\n",
      "95/95 [==============================] - 412s 4s/step - loss: 0.1007 - accuracy: 0.9618 - val_loss: 0.3594 - val_accuracy: 0.8750\n",
      "Epoch 16/20\n",
      "95/95 [==============================] - 310s 3s/step - loss: 0.0902 - accuracy: 0.9693 - val_loss: 0.3891 - val_accuracy: 0.8750\n",
      "Epoch 17/20\n",
      "95/95 [==============================] - 308s 3s/step - loss: 0.0929 - accuracy: 0.9657 - val_loss: 0.3594 - val_accuracy: 0.8804\n",
      "Epoch 18/20\n",
      "95/95 [==============================] - 308s 3s/step - loss: 0.0813 - accuracy: 0.9707 - val_loss: 0.3346 - val_accuracy: 0.8818\n",
      "Epoch 19/20\n",
      "95/95 [==============================] - 308s 3s/step - loss: 0.0816 - accuracy: 0.9697 - val_loss: 0.2494 - val_accuracy: 0.9049\n",
      "Epoch 20/20\n",
      "95/95 [==============================] - 308s 3s/step - loss: 0.0811 - accuracy: 0.9707 - val_loss: 0.2900 - val_accuracy: 0.8995\n"
     ]
    }
   ],
   "source": [
    "# train the head of the network\n",
    "H = model.fit(aug.flow(trainX, trainY, batch_size=BS),steps_per_epoch=len(trainX)//BS,validation_data=(testX, testY),validation_steps=len(testX)//BS,epochs=EPOCHS,sample_weight=None)\n",
    "#fit(x, y, batch_size, epochs, verbose, callbacks,validation_split, validation_data, shuffle, class_weight,sample_weight, initial_epoch, steps_per_epoch,validation_steps, validation_batch_size, validation_freq,max_queue_size, workers, use_multiprocessing)"
   ]
  },
  {
   "cell_type": "code",
   "execution_count": 15,
   "metadata": {},
   "outputs": [],
   "source": [
    "# make predictions on the testing set\n",
    "predIdxs = model.predict(testX, batch_size=BS)"
   ]
  },
  {
   "cell_type": "code",
   "execution_count": 16,
   "metadata": {},
   "outputs": [],
   "source": [
    "# for each image in the testing set we need to find the index of the label with corresponding largest predicted probability\n",
    "predIdxs = np.argmax(predIdxs, axis=1)"
   ]
  },
  {
   "cell_type": "code",
   "execution_count": 17,
   "metadata": {},
   "outputs": [
    {
     "name": "stdout",
     "output_type": "stream",
     "text": [
      "              precision    recall  f1-score   support\n",
      "\n",
      "   with_mask       0.99      0.81      0.89       383\n",
      "without_mask       0.84      0.99      0.91       384\n",
      "\n",
      "    accuracy                           0.90       767\n",
      "   macro avg       0.92      0.90      0.90       767\n",
      "weighted avg       0.92      0.90      0.90       767\n",
      "\n"
     ]
    }
   ],
   "source": [
    "#show a nicely formatted classification report\n",
    "print(classification_report(testY.argmax(axis=1), predIdxs, target_names=lb.classes_))"
   ]
  },
  {
   "cell_type": "code",
   "execution_count": 18,
   "metadata": {},
   "outputs": [],
   "source": [
    "# serialize the model to disk\n",
    "model.save(\"mask_detector.model\", save_format=\"h5\")"
   ]
  },
  {
   "cell_type": "code",
   "execution_count": 19,
   "metadata": {},
   "outputs": [
    {
     "data": {
      "image/png": "[encoded data removed]",
      "text/plain": [
       "<Figure size 432x288 with 1 Axes>"
      ]
     },
     "metadata": {},
     "output_type": "display_data"
    }
   ],
   "source": [
    "# plot the training loss and accuracy\n",
    "N = EPOCHS\n",
    "plt.style.use(\"ggplot\")\n",
    "plt.figure()\n",
    "plt.plot(np.arange(0, N), H.history[\"loss\"], label=\"train_loss\")\n",
    "plt.plot(np.arange(0, N), H.history[\"val_loss\"], label=\"val_loss\")\n",
    "plt.plot(np.arange(0, N), H.history[\"accuracy\"], label=\"train_acc\")\n",
    "plt.plot(np.arange(0, N), H.history[\"val_accuracy\"], label=\"val_acc\")\n",
    "plt.title(\"Training Loss and Accuracy\")\n",
    "plt.xlabel(\"Epoch #\")\n",
    "plt.ylabel(\"Loss/Accuracy\")\n",
    "plt.legend(loc=\"lower left\")\n",
    "plt.savefig(\"plot.png\")"
   ]
  },
  {
   "cell_type": "code",
   "execution_count": null,
   "metadata": {},
   "outputs": [],
   "source": []
  }
 ],
 "metadata": {
  "kernelspec": {
   "display_name": "Python 3",
   "language": "python",
   "name": "python3"
  },
  "language_info": {
   "codemirror_mode": {
    "name": "ipython",
    "version": 3
   },
   "file_extension": ".py",
   "mimetype": "text/x-python",
   "name": "python",
   "nbconvert_exporter": "python",
   "pygments_lexer": "ipython3",
   "version": "3.7.1"
  }
 },
 "nbformat": 4,
 "nbformat_minor": 2
}
